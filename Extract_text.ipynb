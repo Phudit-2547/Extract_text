{
  "nbformat": 4,
  "nbformat_minor": 0,
  "metadata": {
    "colab": {
      "provenance": [],
      "toc_visible": true,
      "authorship_tag": "ABX9TyPIlygI/wM/69Rto86gLu4Z",
      "include_colab_link": true
    },
    "kernelspec": {
      "name": "python3",
      "display_name": "Python 3"
    },
    "language_info": {
      "name": "python"
    }
  },
  "cells": [
    {
      "cell_type": "markdown",
      "metadata": {
        "id": "view-in-github",
        "colab_type": "text"
      },
      "source": [
        "<a href=\"https://colab.research.google.com/github/Phudit-2547/Extract_text/blob/main/Extract_text.ipynb\" target=\"_parent\"><img src=\"https://colab.research.google.com/assets/colab-badge.svg\" alt=\"Open In Colab\"/></a>"
      ]
    },
    {
      "cell_type": "code",
      "source": [
        "!pip install PyPDF2"
      ],
      "metadata": {
        "colab": {
          "base_uri": "https://localhost:8080/"
        },
        "id": "xTf6sR2z9bi_",
        "outputId": "e8d42102-76fb-4530-e400-9f2479b8b646"
      },
      "execution_count": null,
      "outputs": [
        {
          "output_type": "stream",
          "name": "stdout",
          "text": [
            "Looking in indexes: https://pypi.org/simple, https://us-python.pkg.dev/colab-wheels/public/simple/\n",
            "Collecting PyPDF2\n",
            "  Downloading pypdf2-3.0.0-py3-none-any.whl (232 kB)\n",
            "\u001b[K     |████████████████████████████████| 232 kB 7.7 MB/s \n",
            "\u001b[?25hRequirement already satisfied: typing_extensions>=3.10.0.0 in /usr/local/lib/python3.8/dist-packages (from PyPDF2) (4.4.0)\n",
            "Installing collected packages: PyPDF2\n",
            "Successfully installed PyPDF2-3.0.0\n"
          ]
        }
      ]
    },
    {
      "cell_type": "code",
      "execution_count": null,
      "metadata": {
        "colab": {
          "base_uri": "https://localhost:8080/"
        },
        "id": "gMUn1Yuo7qns",
        "outputId": "0de0992a-9317-4fae-f48d-dbe45bea255d"
      },
      "outputs": [
        {
          "output_type": "stream",
          "name": "stdout",
          "text": [
            "#27,193,219\n",
            "HAS BEEN AWARDED TO\n",
            "Phudit Pumcharern\n",
            "FOR SUCCESSFULLY COMPLETING\n",
            "Understanding Data Engineering\n",
            "LENGTH\n",
            "2 HOURS\n",
            "COMPLETED ON\n",
            "DEC 19, 2022\n"
          ]
        }
      ],
      "source": [
        "import PyPDF2\n",
        "import os\n",
        "\n",
        "# Open the PDF file in read-binary mode\n",
        "with open('/content/certificate.pdf', 'rb') as file:\n",
        "  # Create a PDF object\n",
        "  pdf = PyPDF2.PdfReader(file)\n",
        "  # Extract the text from the PDF\n",
        "  text = ''\n",
        "  for page in pdf.pages:\n",
        "    text += page.extract_text()\n",
        "  # Print the text\n",
        "  print(text)\n"
      ]
    }
  ]
}